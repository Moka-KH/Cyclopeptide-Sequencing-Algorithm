{
 "cells": [
  {
   "cell_type": "markdown",
   "metadata": {},
   "source": [
    "# Cyclopeptide Sequencing Algorithm"
   ]
  },
  {
   "cell_type": "markdown",
   "metadata": {},
   "source": [
    "- Aassume that in the mass table the key of the value 113, 128, always are L, Q respectively"
   ]
  },
  {
   "cell_type": "markdown",
   "metadata": {},
   "source": [
    "### Add the Spectrum Map"
   ]
  },
  {
   "cell_type": "code",
   "execution_count": 74,
   "metadata": {},
   "outputs": [],
   "source": []
  },
  {
   "cell_type": "markdown",
   "metadata": {},
   "source": [
    "### Initialize the List of Amino Acids"
   ]
  },
  {
   "cell_type": "code",
   "execution_count": 75,
   "metadata": {},
   "outputs": [],
   "source": []
  },
  {
   "cell_type": "markdown",
   "metadata": {},
   "source": [
    "### Generate k-mers"
   ]
  },
  {
   "cell_type": "code",
   "execution_count": 76,
   "metadata": {},
   "outputs": [],
   "source": []
  },
  {
   "cell_type": "markdown",
   "metadata": {},
   "source": [
    "### Generate List of Subpeptides & Calculate Mass of Each Subpeptide"
   ]
  },
  {
   "cell_type": "code",
   "execution_count": null,
   "metadata": {},
   "outputs": [],
   "source": []
  },
  {
   "cell_type": "markdown",
   "metadata": {},
   "source": [
    "### Find the Linear Spectrum"
   ]
  },
  {
   "cell_type": "code",
   "execution_count": 77,
   "metadata": {},
   "outputs": [],
   "source": [
    "def Linear_Spectrum(peptide) :\n",
    "    \"\"\"\n",
    "    Calculate the linear spectrum of a peptide sequence.\n",
    "\n",
    "    Input: peptide (str), The peptide sequence for which the linear spectrum is calculated.\n",
    "\n",
    "    Output: A list of integers representing the linear spectrum of the peptide.\n",
    "    \"\"\"\n",
    "    SpectrumList = []  \n",
    "    SubpeptidesList=[]\n",
    "\n",
    "    SubpeptidesList = GenerateSubpeptides(peptide)\n",
    "    for subpp in SubpeptidesList:\n",
    "        SpectrumList.append(CalculatePeptide(subpp))\n",
    "    SpectrumList.sort()\n",
    "    \n",
    "    return (SpectrumList)"
   ]
  },
  {
   "cell_type": "markdown",
   "metadata": {},
   "source": [
    "### Check If The Mer is Consistent"
   ]
  },
  {
   "cell_type": "code",
   "execution_count": 78,
   "metadata": {},
   "outputs": [],
   "source": []
  },
  {
   "cell_type": "markdown",
   "metadata": {},
   "source": [
    "### Loop That Combine All the Prevoius Functions (Cyclopeptide_Sequencing)"
   ]
  },
  {
   "cell_type": "code",
   "execution_count": 79,
   "metadata": {},
   "outputs": [],
   "source": [
    "def Cyclopeptide_Sequencing(t_spect):\n",
    "    \"\"\"\n",
    "    This function performs Cyclopeptide Sequencing to identify cyclic peptides that align with the provided spectrum.\n",
    "\n",
    "    Input: spectrum (list), The theoretical spectrum against which the peptides are evaluated.\n",
    "\n",
    "    Output: A list containing cyclic peptide sequences that are consistent with the provided spectrum.\n",
    "    \"\"\"\n",
    "    spect_filtered = [val for val in t_spect if val > 0] \n",
    "    initial = initial_list(spect_filtered)\n",
    "\n",
    "    flag = True\n",
    "    temp = generate_n_mers(initial)\n",
    "\n",
    "    while flag:\n",
    "    \n",
    "        final_list=[]\n",
    "        tmp=next(temp)\n",
    "        \n",
    "        for peptide in tmp:\n",
    "                con_flag = is_consistent(peptide,t_spect)\n",
    "                if(con_flag == True):\n",
    "                    final_list.append(peptide)\n",
    "                elif (con_flag ==False):\n",
    "                    tmp.remove(peptide)\n",
    "        \n",
    "        if len(final_list) == 0:\n",
    "                flag = False\n",
    "        else:\n",
    "                final =final_list \n",
    "    \n",
    "    return final"
   ]
  },
  {
   "cell_type": "code",
   "execution_count": 80,
   "metadata": {},
   "outputs": [
    {
     "name": "stdout",
     "output_type": "stream",
     "text": [
      "The Seq. are:  ['CPTPV', 'PTVPC', 'PTPCV', 'CPTVP', 'TPVCP', 'TVPCP', 'VPTPC', 'PVTPC', 'PCPVT', 'CVPTP', 'VCPTP', 'PTPVC']\n"
     ]
    }
   ],
   "source": []
  }
 ],
 "metadata": {
  "kernelspec": {
   "display_name": "Python 3",
   "language": "python",
   "name": "python3"
  },
  "language_info": {
   "codemirror_mode": {
    "name": "ipython",
    "version": 3
   },
   "file_extension": ".py",
   "mimetype": "text/x-python",
   "name": "python",
   "nbconvert_exporter": "python",
   "pygments_lexer": "ipython3",
   "version": "3.12.0"
  }
 },
 "nbformat": 4,
 "nbformat_minor": 2
}
