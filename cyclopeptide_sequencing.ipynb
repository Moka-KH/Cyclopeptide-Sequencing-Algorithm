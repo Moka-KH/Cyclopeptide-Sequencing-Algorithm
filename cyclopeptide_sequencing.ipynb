{
 "cells": [
  {
   "cell_type": "markdown",
   "metadata": {},
   "source": [
    "# Cyclopeptide Sequencing Algorithm"
   ]
  },
  {
   "cell_type": "markdown",
   "metadata": {},
   "source": [
    "- Aassume that in the mass table the key of the value 113, 128, always are L, Q respectively"
   ]
  },
  {
   "cell_type": "markdown",
   "metadata": {},
   "source": [
    "### Add the Spectrum Map"
   ]
  },
  {
   "cell_type": "code",
   "execution_count": 7,
   "metadata": {},
   "outputs": [],
   "source": [
    "mass_table = {'G': 57, 'A': 71, 'S': 87, 'P': 97, 'V': 99, 'T': 101,\n",
    "              'C': 103, 'I': 113, 'L': 113, 'N': 114, 'D': 115,\n",
    "              'K': 128, 'Q': 128, 'E': 129, 'M': 131, 'H': 137,\n",
    "              'F': 147, 'R': 156, 'Y': 163, 'W': 186}\n",
    "\n",
    "# Invert the mass table to map mass to amino acid symbol\n",
    "mmap = {value: key for key, value in mass_table.items()}"
   ]
  },
  {
   "cell_type": "markdown",
   "metadata": {},
   "source": [
    "### Initialize the List of Amino Acids"
   ]
  },
  {
   "cell_type": "code",
   "execution_count": 8,
   "metadata": {},
   "outputs": [],
   "source": [
    "def initial_list(spect):\n",
    "  \"\"\"\n",
    "  This function takes a list of spectrum values (masses) and returns a list of\n",
    "  corresponding amino acid symbols from the mass_table, considering a mass threshold.\n",
    "\n",
    "  Args:\n",
    "      spect: A list of integers representing spectrum values (masses).\n",
    "\n",
    "  Returns:\n",
    "      A list containing amino acid symbol for elements\n",
    "      in the spectrum that have a mass less than or equal to 186.\n",
    "  \"\"\"\n",
    "  matching_data = [ mmap[val] for val in spect if val <= 186]\n",
    "  return matching_data\n"
   ]
  },
  {
   "cell_type": "markdown",
   "metadata": {},
   "source": [
    "### Generate k-mers"
   ]
  },
  {
   "cell_type": "code",
   "execution_count": 9,
   "metadata": {},
   "outputs": [],
   "source": [
    "def generate_n_mers(letters):\n",
    "    \"\"\"\n",
    "    This function create a list of the next k-mer level based on the given list\n",
    "\n",
    "    Input: list of k-mer and the initial list which will be used in extended the given list\n",
    "\n",
    "    Output: A list of the next k-mer.\n",
    "    \"\"\"\n",
    "    n = 2\n",
    "    n_minus_1_mers = letters\n",
    "\n",
    "    def generate():\n",
    "        nonlocal n, n_minus_1_mers\n",
    "        if n == 1:\n",
    "            return n_minus_1_mers\n",
    "        else:\n",
    "            n_mers = []\n",
    "            for mer in n_minus_1_mers:\n",
    "                for letter in letters:\n",
    "                    if letters.count(letter) > mer.count(letter):\n",
    "                          n_mers.append(mer + letter)\n",
    "\n",
    "            n_minus_1_mers = n_mers\n",
    "            return list(set(n_mers))\n",
    "\n",
    "    while True:\n",
    "        yield generate()\n",
    "        n += 1\n"
   ]
  },
  {
   "cell_type": "markdown",
   "metadata": {},
   "source": [
    "### Generate List of Subpeptides & Calculate Mass of Each Subpeptide"
   ]
  },
  {
   "cell_type": "code",
   "execution_count": null,
   "metadata": {},
   "outputs": [],
   "source": [
    "def GenerateSubpeptides(peptide) :\n",
    "    \"\"\"\n",
    "    This function generate subpeptides of the given peptide.\n",
    "\n",
    "    Input: peptide that will be splitted into different subpeptides.\n",
    "\n",
    "    Output: A list of subpeptides.\n",
    "    \"\"\"\n",
    "    subpeptides = []\n",
    "    subpp = ''\n",
    "    for i in range(0,len(peptide),1):   \n",
    "        mer_size = i+1                      \n",
    "        for j in range(0,len(peptide),1): \n",
    "            subpp = peptide[j:j + mer_size] \n",
    "            if (len(subpp) < mer_size):  \n",
    "                continue\n",
    "            subpeptides.append(subpp)         \n",
    "        if mer_size == len(peptide):      \n",
    "            break\n",
    "        subpp=''\n",
    "    return subpeptides\n",
    "\n",
    "def CalculatePeptide (peptide): \n",
    "    \"\"\"\n",
    "    Calculate the total mass of every subpeptide within a given peptide sequence.\n",
    "\n",
    "    Input: peptide (str), The peptide sequence for which the total mass of subpeptides is calculated.\n",
    "\n",
    "    Output:  The total mass of all subpeptides in the peptide sequence.\n",
    "    \"\"\"   \n",
    "    Total=0\n",
    "    for i in peptide:\n",
    "        Total += mass_table[i]\n",
    "    return Total"
   ]
  },
  {
   "cell_type": "markdown",
   "metadata": {},
   "source": [
    "### Find the Linear Spectrum"
   ]
  },
  {
   "cell_type": "code",
   "execution_count": 77,
   "metadata": {},
   "outputs": [],
   "source": [
    "def Linear_Spectrum(peptide) :\n",
    "    \"\"\"\n",
    "    Calculate the linear spectrum of a peptide sequence.\n",
    "\n",
    "    Input: peptide (str), The peptide sequence for which the linear spectrum is calculated.\n",
    "\n",
    "    Output: A list of integers representing the linear spectrum of the peptide.\n",
    "    \"\"\"\n",
    "    SpectrumList = []  \n",
    "    SubpeptidesList=[]\n",
    "\n",
    "    SubpeptidesList = GenerateSubpeptides(peptide)\n",
    "    for subpp in SubpeptidesList:\n",
    "        SpectrumList.append(CalculatePeptide(subpp))\n",
    "    SpectrumList.sort()\n",
    "    \n",
    "    return (SpectrumList)"
   ]
  },
  {
   "cell_type": "markdown",
   "metadata": {},
   "source": [
    "### Check If The Mer is Consistent"
   ]
  },
  {
   "cell_type": "code",
   "execution_count": 78,
   "metadata": {},
   "outputs": [],
   "source": [
"def is_consistent(peptide, spectrum):",
    "    \"\"\"\n",
    "Description:",
        "This function Determines whether a subpeptide is consistent with a given spectrum. A subpeptide is", 
        "considered consistent if its linear spectrum, derived from the masses of its amino acids, is entirely", 
        "contained within the spectrum.",

    "Parameters:",
     "   - subpeptide (str): The subpeptide sequence to be checked for consistency.",
      "  - spectrum (list): The theoretical spectrum against which the consistency of the subpeptide is ",
       " evaluated.",

    "Returns:",
  "      bool: True if the subpeptide is consistent with the spectrum, False otherwise.",
    "    \"\"\"\n",
   " peptide_spectrum = Linear_Spectrum(peptide)",
    "for mass in peptide_spectrum:",
     "   if mass not in spectrum:",
      "      return False",
    "return True"
   ]
  },
  {
   "cell_type": "markdown",
   "metadata": {},
   "source": [
    "### Loop That Combine All the Prevoius Functions (Cyclopeptide_Sequencing)"
   ]
  },
  {
   "cell_type": "code",
   "execution_count": 79,
   "metadata": {},
   "outputs": [],
   "source": [
    "def Cyclopeptide_Sequencing(t_spect):\n",
    "    \"\"\"\n",
    "    This function performs Cyclopeptide Sequencing to identify cyclic peptides that align with the provided spectrum.\n",
    "\n",
    "    Input: spectrum (list), The theoretical spectrum against which the peptides are evaluated.\n",
    "\n",
    "    Output: A list containing cyclic peptide sequences that are consistent with the provided spectrum.\n",
    "    \"\"\"\n",
    "    spect_filtered = [val for val in t_spect if val > 0] \n",
    "    initial = initial_list(spect_filtered)\n",
    "\n",
    "    flag = True\n",
    "    temp = generate_n_mers(initial)\n",
    "\n",
    "    while flag:\n",
    "    \n",
    "        final_list=[]\n",
    "        tmp=next(temp)\n",
    "        \n",
    "        for peptide in tmp:\n",
    "                con_flag = is_consistent(peptide,t_spect)\n",
    "                if(con_flag == True):\n",
    "                    final_list.append(peptide)\n",
    "                elif (con_flag ==False):\n",
    "                    tmp.remove(peptide)\n",
    "        \n",
    "        if len(final_list) == 0:\n",
    "                flag = False\n",
    "        else:\n",
    "                final =final_list \n",
    "    \n",
    "    return final"
   ]
  },
  {
   "cell_type": "code",
   "execution_count": 80,
   "metadata": {},
   "outputs": [
    {
     "name": "stdout",
     "output_type": "stream",
     "text": [
      "The Seq. are:  ['CPTPV', 'PTVPC', 'PTPCV', 'CPTVP', 'TPVCP', 'TVPCP', 'VPTPC', 'PVTPC', 'PCPVT', 'CVPTP', 'VCPTP', 'PTPVC']\n"
     ]
    }
   ],
   "source": [
   " therorical_spectrum = [int(x) for x in input(Enter The Therorical Spectrum: ).split()]",
"seq = Cyclopeptide_Sequencing(therorical_spectrum)",
"print (The Seq. are: , seq)",

"#Test Case:",
"#0 97 97 99 101 103 196 198 198 200 202 295 297 299 299 301 394 396 398 400 400 497"

   ]
  }
 ],
 "metadata": {
  "kernelspec": {
   "display_name": "Python 3",
   "language": "python",
   "name": "python3"
  },
  "language_info": {
   "codemirror_mode": {
    "name": "ipython",
    "version": 3
   },
   "file_extension": ".py",
   "mimetype": "text/x-python",
   "name": "python",
   "nbconvert_exporter": "python",
   "pygments_lexer": "ipython3",
   "version": "3.10.5"
  }
 },
 "nbformat": 4,
 "nbformat_minor": 2
}
